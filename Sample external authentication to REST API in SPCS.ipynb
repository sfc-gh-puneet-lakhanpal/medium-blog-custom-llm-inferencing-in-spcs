{
 "cells": [
  {
   "cell_type": "markdown",
   "id": "0b59c1fd-ff9e-4697-8afe-1f0307083659",
   "metadata": {
    "collapsed": false,
    "jupyter": {
     "outputs_hidden": false
    },
    "name": "header"
   },
   "source": [
    "### Inferencing using ibm-granite/granite-3.1-8b-instruct"
   ]
  },
  {
   "cell_type": "code",
   "execution_count": 12,
   "id": "72f8b143",
   "metadata": {},
   "outputs": [],
   "source": [
    "import requests\n",
    "import os\n",
    "import sys\n",
    "from dotenv import load_dotenv\n",
    "import snowflake.connector\n",
    "from snowflake.snowpark import Session\n",
    "import json\n",
    "import time\n",
    "import pandas as pd\n",
    "import datetime\n",
    "import requests"
   ]
  },
  {
   "cell_type": "code",
   "execution_count": 13,
   "id": "50307eb2-7566-4c1e-9d52-fdd263c9188c",
   "metadata": {},
   "outputs": [],
   "source": [
    "def initiate_snowflake_connection(env_path):\n",
    "    load_dotenv(dotenv_path=env_path)\n",
    "    connection_parameters = {\n",
    "        \"account\": os.getenv(\"SNOWFLAKE_ACCOUNT\"),\n",
    "        \"user\": os.getenv(\"SNOWFLAKE_USER\"),\n",
    "        \"password\": os.getenv(\"SNOWFLAKE_PASSWORD\"),\n",
    "        \"warehouse\": os.getenv(\"SNOWFLAKE_WAREHOUSE\"),\n",
    "        \"database\": os.getenv(\"SNOWFLAKE_DATABASE\"),\n",
    "        \"schema\": os.getenv(\"SNOWFLAKE_SCHEMA\"),\n",
    "        \"role\": os.getenv(\"SNOWFLAKE_ROLE\"),\n",
    "        \"client_session_keep_alive\": True,\n",
    "        \"session_parameters\": {\"PYTHON_CONNECTOR_QUERY_RESULT_FORMAT\": \"json\"}\n",
    "    }\n",
    "    snowflake_conn = snowflake.connector.connect(**connection_parameters)\n",
    "    return snowflake_conn\n",
    "\n",
    "def get_headers(snowflake_conn):\n",
    "    token = snowflake_conn._rest._token_request('ISSUE')\n",
    "    headers = {'Authorization': f'Snowflake Token=\\\"{token[\"data\"][\"sessionToken\"]}\\\"'}\n",
    "    return headers\n",
    "\n",
    "env_path = '.env'\n",
    "snowflake_conn = initiate_snowflake_connection(env_path)\n",
    "headers = get_headers(snowflake_conn)"
   ]
  },
  {
   "cell_type": "markdown",
   "id": "103871a9-7250-402d-93dc-0507110028ba",
   "metadata": {},
   "source": [
    "### REST API"
   ]
  },
  {
   "cell_type": "code",
   "execution_count": 18,
   "id": "3775908f-ca36-4846-8f38-5adca39217f2",
   "metadata": {
    "codeCollapsed": false,
    "collapsed": false,
    "jupyter": {
     "outputs_hidden": false
    },
    "language": "python",
    "name": "import_libraries"
   },
   "outputs": [],
   "source": [
    "url = 'https://X.snowflakecomputing.app/llm'\n",
    "user_prompt = \"create a sentence with 'The happy ocean darkly reads.' without any additional explanations.\"\n",
    "max_tokens = 256"
   ]
  },
  {
   "cell_type": "code",
   "execution_count": 19,
   "id": "0a1d41c1",
   "metadata": {},
   "outputs": [],
   "source": [
    "def get_response(user_prompt, max_tokens):\n",
    "    response = requests.post(url, json={'user_prompt': user_prompt, 'max_tokens': max_tokens}, headers=headers)\n",
    "    return response"
   ]
  },
  {
   "cell_type": "code",
   "execution_count": 20,
   "id": "9aa9d507-38ae-4d35-b55a-87b13954c445",
   "metadata": {},
   "outputs": [
    {
     "name": "stdout",
     "output_type": "stream",
     "text": [
      "The happy ocean darkly reads the book of time, as waves of joy ripple its inky surface.\n"
     ]
    }
   ],
   "source": [
    "response = get_response(user_prompt, max_tokens)\n",
    "print(response.content.decode(\"utf-8\").replace('\"', ''))"
   ]
  },
  {
   "cell_type": "code",
   "execution_count": null,
   "id": "21c7d998-ffa7-4696-bbe4-9221e99a0062",
   "metadata": {},
   "outputs": [],
   "source": []
  }
 ],
 "metadata": {
  "kernelspec": {
   "display_name": "apptioibmgranite",
   "language": "python",
   "name": "python3"
  },
  "language_info": {
   "codemirror_mode": {
    "name": "ipython",
    "version": 3
   },
   "file_extension": ".py",
   "mimetype": "text/x-python",
   "name": "python",
   "nbconvert_exporter": "python",
   "pygments_lexer": "ipython3",
   "version": "3.11.11"
  }
 },
 "nbformat": 4,
 "nbformat_minor": 5
}
